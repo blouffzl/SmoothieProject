{
 "cells": [
  {
   "cell_type": "code",
   "id": "initial_id",
   "metadata": {
    "collapsed": true,
    "ExecuteTime": {
     "end_time": "2025-09-05T09:01:08.425270Z",
     "start_time": "2025-09-05T09:00:43.787478Z"
    }
   },
   "source": [
    "def Hourly_Rate (bike_type):\n",
    "    if bike_type == 'regular':\n",
    "         return 7\n",
    "    elif bike_type == 'e-bike':\n",
    "        return 15\n",
    "Vat_Rate = 0.25\n",
    "hours = int(input('For how many hours would you like to rent the bike?:'))\n",
    "\n",
    "bike_type = input ('What Bike would you like to rent?:'\n",
    "      ' E-Bike or Regular Bike')\n",
    "helmet = input ('Would you like to add a helmet? Answer with y/n:')\n",
    "if helmet.lower() == 'y':\n",
    "        helmet_cost=3\n",
    "else: helmet_cost=0\n",
    "base_cost = Hourly_Rates[bike_type] * hours\n",
    "vat = base_cost * Vat_Rate\n",
    "cost = base_cost + vat + helmet_cost\n",
    "print('Your total is:', cost)"
   ],
   "outputs": [
    {
     "name": "stdout",
     "output_type": "stream",
     "text": [
      "Your total is: 38.0\n"
     ]
    }
   ],
   "execution_count": 25
  },
  {
   "metadata": {
    "ExecuteTime": {
     "end_time": "2025-09-05T08:59:04.429651Z",
     "start_time": "2025-09-05T08:59:04.427396Z"
    }
   },
   "cell_type": "code",
   "source": "",
   "id": "dfc3efa145b26534",
   "outputs": [],
   "execution_count": null
  },
  {
   "metadata": {},
   "cell_type": "markdown",
   "source": "",
   "id": "d6e4f7a8033c0f66"
  },
  {
   "metadata": {},
   "cell_type": "code",
   "outputs": [],
   "execution_count": null,
   "source": "",
   "id": "4c324894a00417a1"
  }
 ],
 "metadata": {
  "kernelspec": {
   "display_name": "Python 3",
   "language": "python",
   "name": "python3"
  },
  "language_info": {
   "codemirror_mode": {
    "name": "ipython",
    "version": 2
   },
   "file_extension": ".py",
   "mimetype": "text/x-python",
   "name": "python",
   "nbconvert_exporter": "python",
   "pygments_lexer": "ipython2",
   "version": "2.7.6"
  }
 },
 "nbformat": 4,
 "nbformat_minor": 5
}
