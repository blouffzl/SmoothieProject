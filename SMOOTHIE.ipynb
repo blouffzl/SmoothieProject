{
 "cells": [
  {
   "metadata": {},
   "cell_type": "markdown",
   "source": [
    "# This is a sample Jupyter Notebook\n",
    "\n",
    "Below is an example of a code cell. \n",
    "Put your cursor into the cell and press Shift+Enter to execute it and select the next one, or click 'Run Cell' button.\n",
    "\n",
    "Press Double Shift to search everywhere for classes, files, tool windows, actions, and settings.\n",
    "\n",
    "To learn more about Jupyter Notebooks in PyCharm, see [help](https://www.jetbrains.com/help/pycharm/ipython-notebook-support.html).\n",
    "For an overview of PyCharm, go to Help -> Learn IDE features or refer to [our documentation](https://www.jetbrains.com/help/pycharm/getting-started.html)."
   ],
   "id": "8a77807f92f26ee"
  },
  {
   "metadata": {
    "ExecuteTime": {
     "end_time": "2025-09-03T10:20:48.979706Z",
     "start_time": "2025-09-03T10:20:40.759674Z"
    }
   },
   "cell_type": "code",
   "source": [
    "Small_price = 2\n",
    "Medium_price = 3\n",
    "Large_price = 4.5\n",
    "Add_in_flavors = 0.5\n",
    "Plant_Milk_Upcharge = 0.5\n",
    "size = input('What Size would you like?\\nS/M/L: ')\n",
    "milk = input('Would you like plant based milk? Use y or n:')\n",
    "extra = int(input('How many add-in flavors?: '))\n",
    "\n",
    "\n",
    "if size.upper() == \"S\":\n",
    "    base = Small_price\n",
    "elif size.upper() == \"M\":\n",
    "    base = Medium_price\n",
    "elif size.upper() == \"L\":\n",
    "    base = Large_price\n",
    "else:\n",
    "    base = 0\n",
    "\n",
    "# milk cost\n",
    "if milk.lower() == \"y\":\n",
    "    milk_cost = Plant_Milk_Upcharge\n",
    "else:\n",
    "    milk_cost = 0\n",
    "\n",
    "# add-ins cost\n",
    "addins_cost = extra * Add_in_flavors\n",
    "\n",
    "# total\n",
    "total = base + milk_cost + addins_cost\n",
    "print(\"TOTAL:\", total)"
   ],
   "id": "3da42cc60668c2c9",
   "outputs": [
    {
     "name": "stdout",
     "output_type": "stream",
     "text": [
      "TOTAL: 3.0\n"
     ]
    }
   ],
   "execution_count": 2
  }
 ],
 "metadata": {
  "kernelspec": {
   "display_name": "Python 3",
   "language": "python",
   "name": "python3"
  },
  "language_info": {
   "codemirror_mode": {
    "name": "ipython",
    "version": 2
   },
   "file_extension": ".py",
   "mimetype": "text/x-python",
   "name": "python",
   "nbconvert_exporter": "python",
   "pygments_lexer": "ipython2",
   "version": "2.7.6"
  }
 },
 "nbformat": 4,
 "nbformat_minor": 5
}
